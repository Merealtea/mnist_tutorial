{
 "cells": [
  {
   "cell_type": "markdown",
   "metadata": {},
   "source": [
    "# Keras Tutorial"
   ]
  },
  {
   "cell_type": "markdown",
   "metadata": {},
   "source": [
    "Keras is a popular deep learning framework and it's easy to get started."
   ]
  },
  {
   "cell_type": "code",
   "execution_count": 4,
   "metadata": {},
   "outputs": [],
   "source": [
    "import keras\n",
    "from keras.datasets import mnist\n",
    "from keras.models import Sequential\n",
    "from keras.layers import Dense, Dropout, Flatten, Conv2D, MaxPooling2D\n",
    "from keras.optimizers import Adam\n",
    "from keras.metrics import categorical_accuracy,categorical_crossentropy\n",
    "BATCH_SIZE = 128\n",
    "NUM_CLASSES = 10\n",
    "NUM_EPOCHS = 10"
   ]
  },
  {
   "cell_type": "markdown",
   "metadata": {},
   "source": [
    "First, we read the mnist data and preprocess them."
   ]
  },
  {
   "cell_type": "code",
   "execution_count": 2,
   "metadata": {},
   "outputs": [],
   "source": [
    "# download and load the data (split them between train and test sets)\n",
    "(x_train, y_train), (x_test, y_test) = mnist.load_data()\n",
    "\n",
    "# expand the channel dimension\n",
    "x_train = x_train.reshape(x_train.shape[0], 28, 28, 1)\n",
    "x_test = x_test.reshape(x_test.shape[0], 28, 28, 1)\n",
    "input_shape = (28, 28, 1)\n",
    "\n",
    "# make the value of pixels from [0, 255] to [0, 1] for further process\n",
    "x_train = x_train.astype('float32') / 255.\n",
    "x_test = x_test.astype('float32') / 255.\n",
    "\n",
    "# convert class vectors to binary class matrics\n",
    "y_train = keras.utils.to_categorical(y_train, NUM_CLASSES)\n",
    "y_test = keras.utils.to_categorical(y_test, NUM_CLASSES)"
   ]
  },
  {
   "cell_type": "markdown",
   "metadata": {},
   "source": [
    "Then, we define the model, object function and optimizer that we use to classify."
   ]
  },
  {
   "cell_type": "code",
   "execution_count": 5,
   "metadata": {},
   "outputs": [],
   "source": [
    "# define the model\n",
    "model = Sequential([Conv2D(7, 5, activation='relu'),\n",
    "                   MaxPooling2D(strides=2),\n",
    "                   Dropout(0.2),\n",
    "                   Conv2D(12,5,activation='relu'),\n",
    "                   MaxPooling2D(strides=2),\n",
    "                   Dropout(0.2),\n",
    "                   Conv2D(16,3,activation='relu'),\n",
    "                   MaxPooling2D(strides=2),\n",
    "                   Flatten(),\n",
    "                   Dense(10,activation='softmax')])\n",
    "# define the object function, optimizer and metrics\n",
    "model.compile(optimizer=Adam(0.003),loss = 'categorical_crossentropy',metrics=['accuracy'])"
   ]
  },
  {
   "cell_type": "markdown",
   "metadata": {},
   "source": [
    "Next, we can start to train and evaluate!"
   ]
  },
  {
   "cell_type": "code",
   "execution_count": 6,
   "metadata": {},
   "outputs": [
    {
     "name": "stdout",
     "output_type": "stream",
     "text": [
      "Epoch 1/10\n",
      "469/469 [==============================] - 2s 4ms/step - loss: 0.5047 - accuracy: 0.8336 - val_loss: 0.1135 - val_accuracy: 0.9641\n",
      "Epoch 2/10\n",
      "469/469 [==============================] - 1s 3ms/step - loss: 0.1800 - accuracy: 0.9433 - val_loss: 0.0778 - val_accuracy: 0.9767\n",
      "Epoch 3/10\n",
      "469/469 [==============================] - 1s 3ms/step - loss: 0.1373 - accuracy: 0.9575 - val_loss: 0.0581 - val_accuracy: 0.9824\n",
      "Epoch 4/10\n",
      "469/469 [==============================] - 1s 3ms/step - loss: 0.1200 - accuracy: 0.9635 - val_loss: 0.0561 - val_accuracy: 0.9836\n",
      "Epoch 5/10\n",
      "469/469 [==============================] - 1s 3ms/step - loss: 0.1077 - accuracy: 0.9666 - val_loss: 0.0510 - val_accuracy: 0.9845\n",
      "Epoch 6/10\n",
      "469/469 [==============================] - 1s 3ms/step - loss: 0.0989 - accuracy: 0.9691 - val_loss: 0.0428 - val_accuracy: 0.9873\n",
      "Epoch 7/10\n",
      "469/469 [==============================] - 1s 3ms/step - loss: 0.0967 - accuracy: 0.9707 - val_loss: 0.0409 - val_accuracy: 0.9889\n",
      "Epoch 8/10\n",
      "469/469 [==============================] - 1s 3ms/step - loss: 0.0892 - accuracy: 0.9717 - val_loss: 0.0391 - val_accuracy: 0.9877\n",
      "Epoch 9/10\n",
      "469/469 [==============================] - 1s 3ms/step - loss: 0.0870 - accuracy: 0.9725 - val_loss: 0.0378 - val_accuracy: 0.9879\n",
      "Epoch 10/10\n",
      "469/469 [==============================] - 1s 3ms/step - loss: 0.0841 - accuracy: 0.9728 - val_loss: 0.0364 - val_accuracy: 0.9881\n",
      "Training loss: 0.9728, Training accuracy: 8.41%\n",
      "Testing loss: 0.9881, Testing accuracy: 3.64%\n"
     ]
    }
   ],
   "source": [
    "# train\n",
    "History = model.fit(\n",
    "   x_train, y_train, \n",
    "   batch_size = BATCH_SIZE, \n",
    "   epochs = NUM_CLASSES, \n",
    "   verbose = 1, \n",
    "   validation_data = (x_test, y_test))\n",
    "History = History.history\n",
    "\n",
    "# evaluate\n",
    "score_train = History['accuracy'][-1]\n",
    "Train_loss = History['loss'][-1]\n",
    "print('Training loss: %.4f, Training accuracy: %.2f%%' % (Train_loss*100,score_train))\n",
    "score_test = History['val_accuracy'][-1]\n",
    "Test_loss = History['val_loss'][-1]\n",
    "print('Testing loss: %.4f, Testing accuracy: %.2f%%' % (Test_loss*100,score_test))"
   ]
  },
  {
   "cell_type": "markdown",
   "metadata": {},
   "source": [
    "#### Q6:\n",
    "Please print the training and testing accuracy."
   ]
  }
 ],
 "metadata": {
  "kernelspec": {
   "display_name": "Python 3",
   "language": "python",
   "name": "python3"
  },
  "language_info": {
   "codemirror_mode": {
    "name": "ipython",
    "version": 3
   },
   "file_extension": ".py",
   "mimetype": "text/x-python",
   "name": "python",
   "nbconvert_exporter": "python",
   "pygments_lexer": "ipython3",
   "version": "3.7.7"
  }
 },
 "nbformat": 4,
 "nbformat_minor": 2
}
